{
 "cells": [
  {
   "cell_type": "code",
   "execution_count": 15,
   "metadata": {},
   "outputs": [],
   "source": [
    "import random\n",
    "import numpy as np\n",
    "import pandas as pd\n",
    "\n",
    "from copy import deepcopy"
   ]
  },
  {
   "cell_type": "code",
   "execution_count": 23,
   "metadata": {},
   "outputs": [],
   "source": [
    "vale13 = pd.read_excel('data/raw/vale13FEELS.xlsx')\n",
    "vale14 = pd.read_excel('data/raw/vale14FEELS.xlsx')\n",
    "vale15 = pd.read_excel('data/raw/vale15FEELS.xlsx')\n",
    "vale16 = pd.read_excel('data/raw/vale15FEELS.xlsx')\n",
    "vale17_1 = pd.read_excel('data/raw/vale17-1FEELS.xlsx')\n",
    "vale17_2 = pd.read_excel('data/raw/vale17-2FEELS.xlsx')"
   ]
  },
  {
   "cell_type": "code",
   "execution_count": 24,
   "metadata": {},
   "outputs": [
    {
     "name": "stdout",
     "output_type": "stream",
     "text": [
      "Você já pode saber mais sobre as nossas operações na Nova Caledônia, na China e no Japão. Acesse http://t.co/iujnLI0rU4 e escolha o país!\n",
      "Fizemos bonito no ranking @WomeninMining, que aponta as 100 mulheres mais inspiradoras da indústria mineral. Uhuuu! http://t.co/CUmFRL7haA\n",
      "Não deixe para depois o que você pode mudar em 2014. Escolha uma das nossas resoluções e compartilhe com um amigo! http://t.co/MJFgpJJI0N\n",
      "@gustavoobh Obrigado pelas sugestões. =)\n",
      "Paragominas é um exemplo de como aliar desenvolvimento econômico e proteção ambiental. Veja o que o Fundo Vale fez! http://t.co/sHMK7Lm1lq\n",
      "Estamos arrecadando doações p/ as vítimas das enchentes do ES e MG. Para cada R$ 1 doado, doaremos o dobro. Participe http://t.co/8kO98yeAr5\n",
      "Pode deixar, @gustavoobh. Vamos enviar a sugestão para a área responsável. Havendo possibilidade, entraremos em contato com a prefeitura =)\n",
      "Oi, @gustavoobh. Através de patrocínio?\n",
      "Ela está funcionando com restrições, @juliana_zc. Para mais informações, por favor, ligue para 0800-285-7000. Obrigado.\n",
      "@S_WhiteBear Investimos, só em 2012, US$1.342 bilhão em ações socioambientais. Saiba mais em http://t.co/EkvP6PRynW. Abraços.\n",
      "@S_WhiteBear Por saber que nossas operações podem gerar impactos, temos projetos e investimentos que visam a preservação do meio ambiente.\n",
      "@AngToledo Só em 2012, investimos 1.342 bilhão de dólares em ações socioambientais. Conheça mais sobre as ações em http://t.co/wFDkSPCWLb.\n",
      "@AngToledo Sabemos que as operações podem gerar impactos, por isso, temos projetos e investimentos para a preservação do meio ambiente.\n",
      "Somos uma das empresas mais admiradas do mundo em gestão do conhecimento segundo o prêmio Make. Orgulho é pouco! http://t.co/2LfU95anYR\n",
      "@um_cruzeirense_ O que houve? Como podemos ajudá-lo?\n",
      "Encarar as mudanças como oportunidades é um dos lemas do geólogo Peter Poppinga. Quer conhecer essa história? http://t.co/HRMM4bhLgf\n",
      "Prometa o que você poderá cumprir em 2014 agora mesmo. Compartilhe uma das nossas resoluções de fim de ano! http://t.co/MJFgpJJI0N\n",
      "@marcio_reis2 Conhece o nosso site de vagas? Acesse http://t.co/sK82Ggk9S2 e faça seu cadastro. Divulgamos todas as oportunidades lá. =)\n",
      "O orgulho de patrocinar o Círio de Nazaré só cresce. Sabia que a festa agora é Patrimônio da Humanidade pela Unesco? http://t.co/2v8YDrJZI3\n",
      "Oi, @fernandasdn. Divulgamos as nossas vagas através do site http://t.co/sK82Ggk9S2. Cadastre seu currículo. =D\n"
     ]
    }
   ],
   "source": [
    "for i in vale13['Tweets'][:20]:\n",
    "    print(i)"
   ]
  },
  {
   "cell_type": "code",
   "execution_count": 25,
   "metadata": {},
   "outputs": [],
   "source": [
    "vale13_17 = vale13.append(vale14, ignore_index = True)\n",
    "vale13_17 = vale13_17.append(vale15, ignore_index = True)\n",
    "vale13_17 = vale13_17.append(vale16, ignore_index = True)\n",
    "vale13_17 = vale13_17.append(vale17_1, ignore_index = True)\n",
    "vale13_17 = vale13_17.append(vale17_2, ignore_index = True)"
   ]
  },
  {
   "cell_type": "code",
   "execution_count": 26,
   "metadata": {},
   "outputs": [
    {
     "data": {
      "text/plain": [
       "(4809, 4)"
      ]
     },
     "execution_count": 26,
     "metadata": {},
     "output_type": "execute_result"
    }
   ],
   "source": [
    "vale13_17.shape"
   ]
  },
  {
   "cell_type": "code",
   "execution_count": 27,
   "metadata": {},
   "outputs": [
    {
     "data": {
      "text/html": [
       "<div>\n",
       "<style scoped>\n",
       "    .dataframe tbody tr th:only-of-type {\n",
       "        vertical-align: middle;\n",
       "    }\n",
       "\n",
       "    .dataframe tbody tr th {\n",
       "        vertical-align: top;\n",
       "    }\n",
       "\n",
       "    .dataframe thead th {\n",
       "        text-align: right;\n",
       "    }\n",
       "</style>\n",
       "<table border=\"1\" class=\"dataframe\">\n",
       "  <thead>\n",
       "    <tr style=\"text-align: right;\">\n",
       "      <th></th>\n",
       "      <th>Data</th>\n",
       "      <th>Tweets</th>\n",
       "      <th>Polaridade</th>\n",
       "      <th>Subjetividade</th>\n",
       "    </tr>\n",
       "  </thead>\n",
       "  <tbody>\n",
       "    <tr>\n",
       "      <th>0</th>\n",
       "      <td>2013-12-30 18:24:01</td>\n",
       "      <td>Você já pode saber mais sobre as nossas operaç...</td>\n",
       "      <td>0.335227</td>\n",
       "      <td>0.477273</td>\n",
       "    </tr>\n",
       "    <tr>\n",
       "      <th>1</th>\n",
       "      <td>2013-12-30 12:55:39</td>\n",
       "      <td>Fizemos bonito no ranking @WomeninMining, que ...</td>\n",
       "      <td>0.458333</td>\n",
       "      <td>0.833333</td>\n",
       "    </tr>\n",
       "    <tr>\n",
       "      <th>2</th>\n",
       "      <td>2013-12-27 19:42:52</td>\n",
       "      <td>Não deixe para depois o que você pode mudar em...</td>\n",
       "      <td>0.000000</td>\n",
       "      <td>0.000000</td>\n",
       "    </tr>\n",
       "    <tr>\n",
       "      <th>3</th>\n",
       "      <td>2013-12-27 16:54:40</td>\n",
       "      <td>@gustavoobh Obrigado pelas sugestões. =)</td>\n",
       "      <td>0.350000</td>\n",
       "      <td>0.600000</td>\n",
       "    </tr>\n",
       "    <tr>\n",
       "      <th>4</th>\n",
       "      <td>2013-12-27 13:42:28</td>\n",
       "      <td>Paragominas é um exemplo de como aliar desenvo...</td>\n",
       "      <td>0.250000</td>\n",
       "      <td>0.200000</td>\n",
       "    </tr>\n",
       "  </tbody>\n",
       "</table>\n",
       "</div>"
      ],
      "text/plain": [
       "                 Data                                             Tweets  \\\n",
       "0 2013-12-30 18:24:01  Você já pode saber mais sobre as nossas operaç...   \n",
       "1 2013-12-30 12:55:39  Fizemos bonito no ranking @WomeninMining, que ...   \n",
       "2 2013-12-27 19:42:52  Não deixe para depois o que você pode mudar em...   \n",
       "3 2013-12-27 16:54:40           @gustavoobh Obrigado pelas sugestões. =)   \n",
       "4 2013-12-27 13:42:28  Paragominas é um exemplo de como aliar desenvo...   \n",
       "\n",
       "   Polaridade  Subjetividade  \n",
       "0    0.335227       0.477273  \n",
       "1    0.458333       0.833333  \n",
       "2    0.000000       0.000000  \n",
       "3    0.350000       0.600000  \n",
       "4    0.250000       0.200000  "
      ]
     },
     "execution_count": 27,
     "metadata": {},
     "output_type": "execute_result"
    }
   ],
   "source": [
    "vale13_17.head()"
   ]
  },
  {
   "cell_type": "markdown",
   "metadata": {},
   "source": [
    "#### Opção 1"
   ]
  },
  {
   "cell_type": "code",
   "execution_count": 28,
   "metadata": {},
   "outputs": [],
   "source": [
    "option1 = deepcopy(vale13_17)\n",
    "option1.Subjetividade += 1\n",
    "\n",
    "option1 = option1.assign(Sentimento = lambda x: x['Polaridade'] / x['Subjetividade'])\n",
    "option1[\"Sentimento\"].fillna(0, inplace = True) \n",
    "option1.Data = option1.Data.apply(lambda x: x.date().strftime(\"%Y%m%d\"))\n",
    "tweetsCount = option1.groupby('Data').count().Polaridade.to_frame().reset_index()\n",
    "tweetsCount.columns = ['Data', 'Quantidade']\n",
    "option1 = option1.groupby('Data').sum().reset_index()\n",
    "option1 = option1.merge(tweetsCount, on = 'Data')"
   ]
  },
  {
   "cell_type": "code",
   "execution_count": 29,
   "metadata": {},
   "outputs": [
    {
     "data": {
      "text/html": [
       "<div>\n",
       "<style scoped>\n",
       "    .dataframe tbody tr th:only-of-type {\n",
       "        vertical-align: middle;\n",
       "    }\n",
       "\n",
       "    .dataframe tbody tr th {\n",
       "        vertical-align: top;\n",
       "    }\n",
       "\n",
       "    .dataframe thead th {\n",
       "        text-align: right;\n",
       "    }\n",
       "</style>\n",
       "<table border=\"1\" class=\"dataframe\">\n",
       "  <thead>\n",
       "    <tr style=\"text-align: right;\">\n",
       "      <th></th>\n",
       "      <th>Data</th>\n",
       "      <th>Polaridade</th>\n",
       "      <th>Subjetividade</th>\n",
       "      <th>Sentimento</th>\n",
       "      <th>Quantidade</th>\n",
       "    </tr>\n",
       "  </thead>\n",
       "  <tbody>\n",
       "    <tr>\n",
       "      <th>0</th>\n",
       "      <td>20130102</td>\n",
       "      <td>2.500000</td>\n",
       "      <td>7.333333</td>\n",
       "      <td>1.312500</td>\n",
       "      <td>4</td>\n",
       "    </tr>\n",
       "    <tr>\n",
       "      <th>1</th>\n",
       "      <td>20130103</td>\n",
       "      <td>0.000000</td>\n",
       "      <td>1.000000</td>\n",
       "      <td>0.000000</td>\n",
       "      <td>1</td>\n",
       "    </tr>\n",
       "    <tr>\n",
       "      <th>2</th>\n",
       "      <td>20130107</td>\n",
       "      <td>0.236364</td>\n",
       "      <td>3.054545</td>\n",
       "      <td>0.156250</td>\n",
       "      <td>2</td>\n",
       "    </tr>\n",
       "    <tr>\n",
       "      <th>3</th>\n",
       "      <td>20130108</td>\n",
       "      <td>-0.100000</td>\n",
       "      <td>2.100000</td>\n",
       "      <td>-0.090909</td>\n",
       "      <td>2</td>\n",
       "    </tr>\n",
       "    <tr>\n",
       "      <th>4</th>\n",
       "      <td>20130109</td>\n",
       "      <td>1.800000</td>\n",
       "      <td>4.000000</td>\n",
       "      <td>0.900000</td>\n",
       "      <td>2</td>\n",
       "    </tr>\n",
       "  </tbody>\n",
       "</table>\n",
       "</div>"
      ],
      "text/plain": [
       "       Data  Polaridade  Subjetividade  Sentimento  Quantidade\n",
       "0  20130102    2.500000       7.333333    1.312500           4\n",
       "1  20130103    0.000000       1.000000    0.000000           1\n",
       "2  20130107    0.236364       3.054545    0.156250           2\n",
       "3  20130108   -0.100000       2.100000   -0.090909           2\n",
       "4  20130109    1.800000       4.000000    0.900000           2"
      ]
     },
     "execution_count": 29,
     "metadata": {},
     "output_type": "execute_result"
    }
   ],
   "source": [
    "option1.head()"
   ]
  },
  {
   "cell_type": "code",
   "execution_count": 37,
   "metadata": {},
   "outputs": [],
   "source": [
    "option1.to_csv('data/processed/sentiment_op1.csv', index = False)"
   ]
  },
  {
   "cell_type": "markdown",
   "metadata": {},
   "source": [
    "#### Opcao 2"
   ]
  },
  {
   "cell_type": "code",
   "execution_count": 30,
   "metadata": {},
   "outputs": [],
   "source": [
    "def categorizeValue(value):\n",
    "    compare = int(value * 10)\n",
    "    if compare > 2:\n",
    "        return 'Bom'\n",
    "    elif compare < -2:\n",
    "        return 'Ruim'\n",
    "    else:\n",
    "        return 'Neutro'"
   ]
  },
  {
   "cell_type": "code",
   "execution_count": 31,
   "metadata": {},
   "outputs": [],
   "source": [
    "option2 = deepcopy(vale13_17)\n",
    "option2.Subjetividade += 1\n",
    "\n",
    "option2 = option2.assign(Sentimento = lambda x: x['Polaridade'] / x['Subjetividade'])\n",
    "option2[\"Sentimento\"].fillna(0, inplace = True) \n",
    "option2.Data = option2.Data.apply(lambda x: x.date().strftime(\"%Y%m%d\"))"
   ]
  },
  {
   "cell_type": "code",
   "execution_count": 32,
   "metadata": {},
   "outputs": [],
   "source": [
    "option2['Sentimento'] = option2['Sentimento'].apply(lambda x: categorizeValue(x))"
   ]
  },
  {
   "cell_type": "code",
   "execution_count": 33,
   "metadata": {},
   "outputs": [
    {
     "data": {
      "text/html": [
       "<div>\n",
       "<style scoped>\n",
       "    .dataframe tbody tr th:only-of-type {\n",
       "        vertical-align: middle;\n",
       "    }\n",
       "\n",
       "    .dataframe tbody tr th {\n",
       "        vertical-align: top;\n",
       "    }\n",
       "\n",
       "    .dataframe thead th {\n",
       "        text-align: right;\n",
       "    }\n",
       "</style>\n",
       "<table border=\"1\" class=\"dataframe\">\n",
       "  <thead>\n",
       "    <tr style=\"text-align: right;\">\n",
       "      <th></th>\n",
       "      <th>Data</th>\n",
       "      <th>Tweets</th>\n",
       "      <th>Polaridade</th>\n",
       "      <th>Subjetividade</th>\n",
       "      <th>Sentimento</th>\n",
       "    </tr>\n",
       "  </thead>\n",
       "  <tbody>\n",
       "    <tr>\n",
       "      <th>0</th>\n",
       "      <td>20131230</td>\n",
       "      <td>Você já pode saber mais sobre as nossas operaç...</td>\n",
       "      <td>0.335227</td>\n",
       "      <td>1.477273</td>\n",
       "      <td>Neutro</td>\n",
       "    </tr>\n",
       "    <tr>\n",
       "      <th>1</th>\n",
       "      <td>20131230</td>\n",
       "      <td>Fizemos bonito no ranking @WomeninMining, que ...</td>\n",
       "      <td>0.458333</td>\n",
       "      <td>1.833333</td>\n",
       "      <td>Neutro</td>\n",
       "    </tr>\n",
       "    <tr>\n",
       "      <th>2</th>\n",
       "      <td>20131227</td>\n",
       "      <td>Não deixe para depois o que você pode mudar em...</td>\n",
       "      <td>0.000000</td>\n",
       "      <td>1.000000</td>\n",
       "      <td>Neutro</td>\n",
       "    </tr>\n",
       "    <tr>\n",
       "      <th>3</th>\n",
       "      <td>20131227</td>\n",
       "      <td>@gustavoobh Obrigado pelas sugestões. =)</td>\n",
       "      <td>0.350000</td>\n",
       "      <td>1.600000</td>\n",
       "      <td>Neutro</td>\n",
       "    </tr>\n",
       "    <tr>\n",
       "      <th>4</th>\n",
       "      <td>20131227</td>\n",
       "      <td>Paragominas é um exemplo de como aliar desenvo...</td>\n",
       "      <td>0.250000</td>\n",
       "      <td>1.200000</td>\n",
       "      <td>Neutro</td>\n",
       "    </tr>\n",
       "  </tbody>\n",
       "</table>\n",
       "</div>"
      ],
      "text/plain": [
       "       Data                                             Tweets  Polaridade  \\\n",
       "0  20131230  Você já pode saber mais sobre as nossas operaç...    0.335227   \n",
       "1  20131230  Fizemos bonito no ranking @WomeninMining, que ...    0.458333   \n",
       "2  20131227  Não deixe para depois o que você pode mudar em...    0.000000   \n",
       "3  20131227           @gustavoobh Obrigado pelas sugestões. =)    0.350000   \n",
       "4  20131227  Paragominas é um exemplo de como aliar desenvo...    0.250000   \n",
       "\n",
       "   Subjetividade Sentimento  \n",
       "0       1.477273     Neutro  \n",
       "1       1.833333     Neutro  \n",
       "2       1.000000     Neutro  \n",
       "3       1.600000     Neutro  \n",
       "4       1.200000     Neutro  "
      ]
     },
     "execution_count": 33,
     "metadata": {},
     "output_type": "execute_result"
    }
   ],
   "source": [
    "option2.head()"
   ]
  },
  {
   "cell_type": "code",
   "execution_count": 34,
   "metadata": {},
   "outputs": [
    {
     "data": {
      "text/html": [
       "<div>\n",
       "<style scoped>\n",
       "    .dataframe tbody tr th:only-of-type {\n",
       "        vertical-align: middle;\n",
       "    }\n",
       "\n",
       "    .dataframe tbody tr th {\n",
       "        vertical-align: top;\n",
       "    }\n",
       "\n",
       "    .dataframe thead th {\n",
       "        text-align: right;\n",
       "    }\n",
       "</style>\n",
       "<table border=\"1\" class=\"dataframe\">\n",
       "  <thead>\n",
       "    <tr style=\"text-align: right;\">\n",
       "      <th></th>\n",
       "      <th>Data</th>\n",
       "      <th>Tweets</th>\n",
       "      <th>Polaridade</th>\n",
       "      <th>Subjetividade</th>\n",
       "      <th>Sentimento_Bom</th>\n",
       "      <th>Sentimento_Neutro</th>\n",
       "      <th>Sentimento_Ruim</th>\n",
       "      <th>Quantidade</th>\n",
       "    </tr>\n",
       "  </thead>\n",
       "  <tbody>\n",
       "    <tr>\n",
       "      <th>0</th>\n",
       "      <td>20131230</td>\n",
       "      <td>Você já pode saber mais sobre as nossas operaç...</td>\n",
       "      <td>0.335227</td>\n",
       "      <td>1.477273</td>\n",
       "      <td>0</td>\n",
       "      <td>1</td>\n",
       "      <td>0</td>\n",
       "      <td>1</td>\n",
       "    </tr>\n",
       "    <tr>\n",
       "      <th>1</th>\n",
       "      <td>20131230</td>\n",
       "      <td>Fizemos bonito no ranking @WomeninMining, que ...</td>\n",
       "      <td>0.458333</td>\n",
       "      <td>1.833333</td>\n",
       "      <td>0</td>\n",
       "      <td>1</td>\n",
       "      <td>0</td>\n",
       "      <td>1</td>\n",
       "    </tr>\n",
       "    <tr>\n",
       "      <th>2</th>\n",
       "      <td>20131227</td>\n",
       "      <td>Não deixe para depois o que você pode mudar em...</td>\n",
       "      <td>0.000000</td>\n",
       "      <td>1.000000</td>\n",
       "      <td>0</td>\n",
       "      <td>1</td>\n",
       "      <td>0</td>\n",
       "      <td>1</td>\n",
       "    </tr>\n",
       "    <tr>\n",
       "      <th>3</th>\n",
       "      <td>20131227</td>\n",
       "      <td>@gustavoobh Obrigado pelas sugestões. =)</td>\n",
       "      <td>0.350000</td>\n",
       "      <td>1.600000</td>\n",
       "      <td>0</td>\n",
       "      <td>1</td>\n",
       "      <td>0</td>\n",
       "      <td>1</td>\n",
       "    </tr>\n",
       "    <tr>\n",
       "      <th>4</th>\n",
       "      <td>20131227</td>\n",
       "      <td>Paragominas é um exemplo de como aliar desenvo...</td>\n",
       "      <td>0.250000</td>\n",
       "      <td>1.200000</td>\n",
       "      <td>0</td>\n",
       "      <td>1</td>\n",
       "      <td>0</td>\n",
       "      <td>1</td>\n",
       "    </tr>\n",
       "  </tbody>\n",
       "</table>\n",
       "</div>"
      ],
      "text/plain": [
       "       Data                                             Tweets  Polaridade  \\\n",
       "0  20131230  Você já pode saber mais sobre as nossas operaç...    0.335227   \n",
       "1  20131230  Fizemos bonito no ranking @WomeninMining, que ...    0.458333   \n",
       "2  20131227  Não deixe para depois o que você pode mudar em...    0.000000   \n",
       "3  20131227           @gustavoobh Obrigado pelas sugestões. =)    0.350000   \n",
       "4  20131227  Paragominas é um exemplo de como aliar desenvo...    0.250000   \n",
       "\n",
       "   Subjetividade  Sentimento_Bom  Sentimento_Neutro  Sentimento_Ruim  \\\n",
       "0       1.477273               0                  1                0   \n",
       "1       1.833333               0                  1                0   \n",
       "2       1.000000               0                  1                0   \n",
       "3       1.600000               0                  1                0   \n",
       "4       1.200000               0                  1                0   \n",
       "\n",
       "   Quantidade  \n",
       "0           1  \n",
       "1           1  \n",
       "2           1  \n",
       "3           1  \n",
       "4           1  "
      ]
     },
     "execution_count": 34,
     "metadata": {},
     "output_type": "execute_result"
    }
   ],
   "source": [
    "option2 = pd.get_dummies(option2, columns = ['Sentimento'])\n",
    "option2['Quantidade'] = option2['Sentimento_Bom']+ option2['Sentimento_Neutro']+ option2['Sentimento_Ruim']\n",
    "option2.head()"
   ]
  },
  {
   "cell_type": "code",
   "execution_count": 35,
   "metadata": {},
   "outputs": [],
   "source": [
    "option2 = option2.groupby('Data').sum().sort_values(by='Sentimento_Bom', ascending = False).reset_index()"
   ]
  },
  {
   "cell_type": "code",
   "execution_count": 36,
   "metadata": {},
   "outputs": [
    {
     "data": {
      "text/html": [
       "<div>\n",
       "<style scoped>\n",
       "    .dataframe tbody tr th:only-of-type {\n",
       "        vertical-align: middle;\n",
       "    }\n",
       "\n",
       "    .dataframe tbody tr th {\n",
       "        vertical-align: top;\n",
       "    }\n",
       "\n",
       "    .dataframe thead th {\n",
       "        text-align: right;\n",
       "    }\n",
       "</style>\n",
       "<table border=\"1\" class=\"dataframe\">\n",
       "  <thead>\n",
       "    <tr style=\"text-align: right;\">\n",
       "      <th></th>\n",
       "      <th>Data</th>\n",
       "      <th>Polaridade</th>\n",
       "      <th>Subjetividade</th>\n",
       "      <th>Sentimento_Bom</th>\n",
       "      <th>Sentimento_Neutro</th>\n",
       "      <th>Sentimento_Ruim</th>\n",
       "      <th>Quantidade</th>\n",
       "    </tr>\n",
       "  </thead>\n",
       "  <tbody>\n",
       "    <tr>\n",
       "      <th>0</th>\n",
       "      <td>20130909</td>\n",
       "      <td>10.125595</td>\n",
       "      <td>35.408929</td>\n",
       "      <td>10</td>\n",
       "      <td>10</td>\n",
       "      <td>0</td>\n",
       "      <td>20</td>\n",
       "    </tr>\n",
       "    <tr>\n",
       "      <th>1</th>\n",
       "      <td>20151204</td>\n",
       "      <td>8.222944</td>\n",
       "      <td>181.651732</td>\n",
       "      <td>10</td>\n",
       "      <td>132</td>\n",
       "      <td>2</td>\n",
       "      <td>144</td>\n",
       "    </tr>\n",
       "    <tr>\n",
       "      <th>2</th>\n",
       "      <td>20131010</td>\n",
       "      <td>10.139289</td>\n",
       "      <td>43.666335</td>\n",
       "      <td>9</td>\n",
       "      <td>19</td>\n",
       "      <td>0</td>\n",
       "      <td>28</td>\n",
       "    </tr>\n",
       "    <tr>\n",
       "      <th>3</th>\n",
       "      <td>20150211</td>\n",
       "      <td>3.554762</td>\n",
       "      <td>57.039286</td>\n",
       "      <td>8</td>\n",
       "      <td>32</td>\n",
       "      <td>0</td>\n",
       "      <td>40</td>\n",
       "    </tr>\n",
       "    <tr>\n",
       "      <th>4</th>\n",
       "      <td>20171220</td>\n",
       "      <td>5.451705</td>\n",
       "      <td>25.470265</td>\n",
       "      <td>7</td>\n",
       "      <td>12</td>\n",
       "      <td>0</td>\n",
       "      <td>19</td>\n",
       "    </tr>\n",
       "  </tbody>\n",
       "</table>\n",
       "</div>"
      ],
      "text/plain": [
       "       Data  Polaridade  Subjetividade  Sentimento_Bom  Sentimento_Neutro  \\\n",
       "0  20130909   10.125595      35.408929              10                 10   \n",
       "1  20151204    8.222944     181.651732              10                132   \n",
       "2  20131010   10.139289      43.666335               9                 19   \n",
       "3  20150211    3.554762      57.039286               8                 32   \n",
       "4  20171220    5.451705      25.470265               7                 12   \n",
       "\n",
       "   Sentimento_Ruim  Quantidade  \n",
       "0                0          20  \n",
       "1                2         144  \n",
       "2                0          28  \n",
       "3                0          40  \n",
       "4                0          19  "
      ]
     },
     "execution_count": 36,
     "metadata": {},
     "output_type": "execute_result"
    }
   ],
   "source": [
    "option2.head()"
   ]
  },
  {
   "cell_type": "code",
   "execution_count": 52,
   "metadata": {},
   "outputs": [],
   "source": [
    "option2.to_csv('data/processed/sentiment_op2.csv', index = False)"
   ]
  },
  {
   "cell_type": "markdown",
   "metadata": {},
   "source": [
    "#### Opção 3"
   ]
  },
  {
   "cell_type": "code",
   "execution_count": 39,
   "metadata": {},
   "outputs": [],
   "source": [
    "option3 = deepcopy(option1)\n",
    "option3.drop(columns = ['Sentimento'], inplace = True)"
   ]
  },
  {
   "cell_type": "code",
   "execution_count": 57,
   "metadata": {},
   "outputs": [],
   "source": [
    "option3.to_csv('data/processed/sentiment_op3.csv', index = False)"
   ]
  }
 ],
 "metadata": {
  "kernelspec": {
   "display_name": "Python 3",
   "language": "python",
   "name": "python3"
  },
  "language_info": {
   "codemirror_mode": {
    "name": "ipython",
    "version": 3
   },
   "file_extension": ".py",
   "mimetype": "text/x-python",
   "name": "python",
   "nbconvert_exporter": "python",
   "pygments_lexer": "ipython3",
   "version": "3.6.5"
  }
 },
 "nbformat": 4,
 "nbformat_minor": 2
}
