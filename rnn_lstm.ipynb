{
 "cells": [
  {
   "cell_type": "code",
   "execution_count": null,
   "metadata": {
    "id": "s8j4M5plW28G"
   },
   "outputs": [],
   "source": [
    "#@title Imports basicos\n",
    "import pandas as pd\n",
    "import time\n",
    "import matplotlib.pyplot as plt\n",
    "import datetime\n",
    "import gc\n",
    "import numpy as np\n",
    "from sklearn.preprocessing import MinMaxScaler\n",
    "from sklearn.model_selection import train_test_split\n",
    "from sklearn.model_selection import TimeSeriesSplit"
   ]
  },
  {
   "cell_type": "code",
   "execution_count": null,
   "metadata": {
    "id": "lIhoaEBuW3V_"
   },
   "outputs": [],
   "source": [
    "def series_to_supervised(data, n_in=1, n_out=1, dropnan=True):\n",
    "    n_vars = 1 if type(data) is list else data.shape[1]\n",
    "    df = pd.DataFrame(data)\n",
    "    cols, names = list(), list()\n",
    "    # input sequence (t-n, ... t-1)\n",
    "    for i in range(n_in, 0, -1):\n",
    "        cols.append(df.shift(i))\n",
    "        names += [('var%d(t-%d)' % (j+1, i)) for j in range(n_vars)]\n",
    "    # forecast sequence (t, t+1, ... t+n)\n",
    "    for i in range(0, n_out):\n",
    "        cols.append(df.shift(-i))\n",
    "        if i == 0:\n",
    "            names += [('var%d(t)' % (j+1)) for j in range(n_vars)]\n",
    "        else:\n",
    "            names += [('var%d(t+%d)' % (j+1, i)) for j in range(n_vars)]\n",
    "    # put it all together\n",
    "    agg = pd.concat(cols, axis=1)\n",
    "    agg.columns = names\n",
    "    # drop rows with NaN values\n",
    "    if dropnan:\n",
    "        agg.dropna(inplace=True)\n",
    "    return agg"
   ]
  },
  {
   "cell_type": "code",
   "execution_count": null,
   "metadata": {
    "id": "VNltvnZINBcP"
   },
   "outputs": [],
   "source": [
    "name = 'vale_bov_opcao2'\n",
    "stocks = pd.read_csv('data/processed/{}.csv'.format(name))"
   ]
  },
  {
   "cell_type": "code",
   "execution_count": null,
   "metadata": {
    "colab": {
     "base_uri": "https://localhost:8080/",
     "height": 206
    },
    "id": "2z1BOy7VOiHU",
    "outputId": "7bff702d-1672-4005-9383-fd3b6e1676c5"
   },
   "outputs": [],
   "source": [
    "stocks.head()"
   ]
  },
  {
   "cell_type": "code",
   "execution_count": null,
   "metadata": {
    "id": "7p_cdreRW3Pi"
   },
   "outputs": [],
   "source": [
    "dataStocks = pd.to_datetime(stocks['data'], format='%Y%m%d').sort_values(ascending=True)"
   ]
  },
  {
   "cell_type": "code",
   "execution_count": null,
   "metadata": {
    "id": "aeU_mEG1aKA9"
   },
   "outputs": [],
   "source": [
    "stocks = stocks.sort_values(by = 'data', ascending=True).reset_index(drop=True)"
   ]
  },
  {
   "cell_type": "code",
   "execution_count": null,
   "metadata": {
    "colab": {
     "base_uri": "https://localhost:8080/",
     "height": 206
    },
    "id": "nlftOZm2p5CK",
    "outputId": "52381415-8e72-467c-bf4b-6f64f37cffcb"
   },
   "outputs": [],
   "source": [
    "stocks.head()"
   ]
  },
  {
   "cell_type": "code",
   "execution_count": null,
   "metadata": {
    "id": "fIM2TJhaEZPH"
   },
   "outputs": [],
   "source": [
    "stocks.fillna(0, inplace=True)"
   ]
  },
  {
   "cell_type": "code",
   "execution_count": null,
   "metadata": {
    "colab": {
     "base_uri": "https://localhost:8080/",
     "height": 390
    },
    "id": "v7momJEfqcxf",
    "outputId": "ac6513ec-6a6f-48d4-c903-81da0f8d0a6a"
   },
   "outputs": [],
   "source": [
    "plt.figure(figsize=(16,6))\n",
    "plt.plot(dataStocks, stocks[['preabe', 'premax', 'premin', 'premed', 'preult', 'preofc', 'preofv']])\n",
    "plt.title('Valores da Ação variando conforme a data');"
   ]
  },
  {
   "cell_type": "markdown",
   "metadata": {
    "id": "2ZDVGVLuXkIu"
   },
   "source": [
    "## Definição de X e Y\n"
   ]
  },
  {
   "cell_type": "code",
   "execution_count": null,
   "metadata": {
    "id": "UPtP5NFkW3fE"
   },
   "outputs": [],
   "source": [
    "y = stocks[['premed']]\n",
    "y = y.drop(0).reset_index(drop=True)"
   ]
  },
  {
   "cell_type": "code",
   "execution_count": null,
   "metadata": {
    "id": "RmwAqs9rW3mS"
   },
   "outputs": [],
   "source": [
    "x = stocks.drop(columns='data')\n",
    "x.drop(len(x)-1, inplace = True)"
   ]
  },
  {
   "cell_type": "code",
   "execution_count": null,
   "metadata": {
    "colab": {
     "base_uri": "https://localhost:8080/"
    },
    "id": "XA3jOwMkkOqm",
    "outputId": "355b6505-ad29-48e3-8a87-ebbaa511a560"
   },
   "outputs": [],
   "source": [
    "dataStocks.drop(len(dataStocks)-1, inplace = True)\n",
    "\n",
    "defasagem = 0\n",
    "for i in range(defasagem):\n",
    "    y = y.drop(i)\n",
    "    dataStocks.drop(len(dataStocks)-1, inplace = True)\n",
    "\n",
    "y = y.reset_index(drop=True)\n",
    "y.shape\n",
    "\n",
    "auxTrain = int(x.shape[0] * 0.8)\n",
    "testSize = x.shape[0] - auxTrain\n",
    "\n",
    "trainSize = int(auxTrain * 0.8)\n",
    "valSize = auxTrain - trainSize\n",
    "\n",
    "print(\"Train Size: {}\".format(trainSize))\n",
    "print(\"Val Size  : {}\".format(valSize))\n",
    "print(\"Test Size : {}\".format(testSize))\n",
    "print(\"Somatorio dos sizes: {}\".format(trainSize + valSize + testSize))\n",
    "print(\"Tamanho do dataset : {}\".format(x.shape[0]))\n",
    "\n",
    "xTrain = x[:trainSize]\n",
    "xTest = x[trainSize + valSize:]\n",
    "xVal = x[trainSize : trainSize + valSize]\n",
    "\n",
    "xTrain.shape[0], xVal.shape[0], xTest.shape[0]\n",
    "\n",
    "yTrain = y[:trainSize]\n",
    "yVal = y[trainSize : trainSize + valSize]\n",
    "yTest = y[trainSize + valSize:]\n",
    "\n",
    "yTrain.shape[0], yVal.shape[0], yTest.shape[0]\n",
    "\n",
    "xScaler = MinMaxScaler(feature_range = (0,1))\n",
    "yScaler = MinMaxScaler(feature_range = (0,1))\n",
    "\n",
    "x_train = xScaler.fit_transform(xTrain)\n",
    "x_val = xScaler.transform(xVal)\n",
    "x_test = xScaler.transform(xTest)\n",
    "\n",
    "y_train = yScaler.fit_transform(yTrain)\n",
    "y_val = yScaler.transform(yVal)\n",
    "y_test = yScaler.transform(yTest)\n",
    "\n",
    "x = pd.DataFrame(x_train).append(pd.DataFrame(x_val)).append(pd.DataFrame(x_test))\n",
    "\n",
    "x_defasado = series_to_supervised(x, defasagem)\n",
    "x_defasado.shape\n",
    "# x_defasado.shape = x\n",
    "\n",
    "x_train = x_defasado[:trainSize].values\n",
    "x_test = x_defasado[trainSize + valSize:].values\n",
    "x_val = x_defasado[trainSize : trainSize + valSize].values\n",
    "\n",
    "inputVar = x.shape[1]\n",
    "\n",
    "x_train = x_train.reshape(x_train.shape[0], (defasagem+1), inputVar)\n",
    "print('x_train shape {}'.format(x_train.shape))\n",
    "\n",
    "x_val = x_val.reshape(x_val.shape[0], (defasagem+1), inputVar)\n",
    "print('x_val shape {}'.format(x_val.shape))\n",
    "\n",
    "x_test = x_test.reshape(x_test.shape[0], (defasagem+1), inputVar)\n",
    "print('x_test shape {}'.format(x_test.shape))"
   ]
  },
  {
   "cell_type": "code",
   "execution_count": null,
   "metadata": {
    "id": "PzWJZ1Z2ZAdv"
   },
   "outputs": [],
   "source": [
    "#@title imports RNN\n",
    "\n",
    "import keras\n",
    "from keras.models import Sequential\n",
    "from keras.layers import Activation, Dense\n",
    "from keras.layers import LSTM\n",
    "from keras.layers import Dropout\n",
    "from matplotlib import pyplot\n",
    "from keras.callbacks import TensorBoard\n",
    "from time import time\n",
    "from keras.callbacks import ModelCheckpoint\n",
    "from keras.utils.vis_utils import plot_model\n",
    "from keras import backend as K\n",
    "\n",
    "def rmse(y_true, y_pred):\n",
    "        return K.sqrt(K.mean(K.square(y_pred - y_true), axis=-1)) "
   ]
  },
  {
   "cell_type": "code",
   "execution_count": null,
   "metadata": {
    "id": "FH87XcAnZHzZ"
   },
   "outputs": [],
   "source": [
    "#@title Configurações da rede\n",
    "activation_function = 'tanh'  # activation function for LSTM and Dense layer\n",
    "loss = 'mse'                  # loss function for calculating the gradient, in this case Mean Squared Error\n",
    "optimizer = 'adam'\n",
    "dropout = 0.25                # dropout ratio used after each LSTM layer to avoid overfitting"
   ]
  },
  {
   "cell_type": "code",
   "execution_count": null,
   "metadata": {
    "id": "jUHcyRfNpRjR"
   },
   "outputs": [],
   "source": [
    "batch_size = 64\n",
    "epochs = 50"
   ]
  },
  {
   "cell_type": "code",
   "execution_count": null,
   "metadata": {
    "id": "3IRcz3QHZJrr"
   },
   "outputs": [],
   "source": [
    "def build_model(inputs, output_size, activ_func=activation_function, dropout=dropout, loss=loss, optimizer=optimizer):\n",
    "  model = Sequential()\n",
    "  model.add(LSTM(100, return_sequences=True, input_shape=(inputs.shape[1], inputs.shape[2]), activation=activ_func))\n",
    "  model.add(Dropout(dropout))\n",
    "  model.add(LSTM(100, return_sequences=True))\n",
    "  model.add(Dropout(dropout))\n",
    "  model.add(LSTM(48, return_sequences=True))\n",
    "  model.add(Dropout(dropout))\n",
    "  model.add(LSTM(50, activation=activ_func))\n",
    "  model.add(Dropout(dropout))\n",
    "  model.add(Dense(units=output_size))\n",
    "  model.add(Activation('linear'))\n",
    "  model.compile(loss=loss, optimizer=optimizer, metrics=['mae'])\n",
    "  model.summary()\n",
    "  return model"
   ]
  },
  {
   "cell_type": "code",
   "execution_count": null,
   "metadata": {
    "colab": {
     "base_uri": "https://localhost:8080/"
    },
    "id": "jbivdcZwZLtK",
    "outputId": "ad117e13-8a2f-45f8-fd4d-c5906b24e103"
   },
   "outputs": [],
   "source": [
    "gc.collect()\n",
    "\n",
    "# random seed for reproducibility\n",
    "np.random.seed(202)\n",
    "\n",
    "# initialise model architecture\n",
    "rnn_model = build_model(x_train, output_size=1)\n",
    "\n",
    "# tensorboard = TensorBoard(log_dir=\"log/{}\".format(time()))\n",
    "filepath = 'weights_{}_novo.hdf5'.format(name)\n",
    "checkpoint = ModelCheckpoint(filepath, monitor='val_loss', verbose=1, save_best_only=True, mode='min')\n",
    "callbacks_list = [checkpoint]"
   ]
  },
  {
   "cell_type": "code",
   "execution_count": null,
   "metadata": {
    "colab": {
     "base_uri": "https://localhost:8080/"
    },
    "id": "PbuODiUKZWo6",
    "outputId": "3ce581e8-c776-40db-dbc0-cbfb83a7b906"
   },
   "outputs": [],
   "source": [
    "# train model on data\n",
    "history = rnn_model.fit(x_train, y_train, epochs=epochs, batch_size=batch_size, verbose=1, validation_data=(x_val, y_val), shuffle=False, callbacks=[checkpoint])"
   ]
  },
  {
   "cell_type": "code",
   "execution_count": null,
   "metadata": {
    "colab": {
     "base_uri": "https://localhost:8080/",
     "height": 374
    },
    "id": "4pyl1klnZe5L",
    "outputId": "b25bce6d-c9b0-4103-c43d-ec1749f1cd5e"
   },
   "outputs": [],
   "source": [
    "# #Plot Loss\n",
    "plt.figure(figsize=(16,6))\n",
    "pyplot.plot(history.history['loss'], label='treino')\n",
    "pyplot.plot(history.history['val_loss'], label='validação')\n",
    "pyplot.legend();"
   ]
  },
  {
   "cell_type": "code",
   "execution_count": null,
   "metadata": {
    "id": "7HWRT3GuZfQj"
   },
   "outputs": [],
   "source": [
    "encontradoTest = rnn_model.predict(x_test)\n",
    "encontradoVal = rnn_model.predict(x_val)\n",
    "encontradoTrain = rnn_model.predict(x_train)"
   ]
  },
  {
   "cell_type": "code",
   "execution_count": null,
   "metadata": {
    "id": "VGnqyQGmPxWm"
   },
   "outputs": [],
   "source": [
    "foundTrain = yScaler.inverse_transform(encontradoTrain)\n",
    "foundVal = yScaler.inverse_transform(encontradoVal)\n",
    "foundTest = yScaler.inverse_transform(encontradoTest)\n",
    "\n",
    "targetTrain = yScaler.inverse_transform(y_train)\n",
    "targetVal = yScaler.inverse_transform(y_val)\n",
    "targetTest = yScaler.inverse_transform(y_test)"
   ]
  },
  {
   "cell_type": "code",
   "execution_count": null,
   "metadata": {
    "colab": {
     "base_uri": "https://localhost:8080/",
     "height": 730
    },
    "id": "tTl1qLoEzR6a",
    "outputId": "d5229bcf-7aea-457d-902d-ac87eae56a1f"
   },
   "outputs": [],
   "source": [
    "plt.figure(figsize=(30,12))\n",
    "plt.title('Treino/Teste - Encontrado x Esperado ({}d Defasagem)'.format(defasagem))\n",
    "plt.xlabel('Dia')\n",
    "plt.ylabel('Valor')\n",
    "# plt.axes().set_facecolor('lightgrey')\n",
    "#Grafico pro que foi encontrado\n",
    "\n",
    "esperado = [i for i in targetTrain] + [x for x in targetVal] + [t for t in targetTest]\n",
    "plt.plot(dataStocks.values, [i for i in foundTrain] + [x for x in foundVal] + [t for t in foundTest], label = 'Encontrado', color = 'blue')\n",
    "plt.plot(dataStocks.values, esperado, label = 'Esperado', color='green')\n",
    "\n",
    "lineXTrain = len(foundTrain)\n",
    "lineXTest = len(foundVal) + lineXTrain\n",
    "minEsperado = min(esperado)\n",
    "maxEsperado = max(esperado)\n",
    "plt.plot([ dataStocks[lineXTrain], dataStocks[lineXTrain]  ], [ minEsperado, maxEsperado], c = 'black')\n",
    "plt.plot([ dataStocks[lineXTest], dataStocks[lineXTest]  ], [ minEsperado, maxEsperado], c = 'black')\n",
    "\n",
    "plt.text(dataStocks[300], 10, 'Treinamento', fontsize = 15)\n",
    "plt.text(dataStocks[820], 10, 'Validação', fontsize = 15)\n",
    "plt.text(dataStocks[1100], 10, 'Teste', fontsize = 15)\n",
    "plt.legend()\n",
    "plt.show()"
   ]
  },
  {
   "cell_type": "code",
   "execution_count": null,
   "metadata": {
    "colab": {
     "base_uri": "https://localhost:8080/"
    },
    "id": "StNPA1VXLTC0",
    "outputId": "496506f9-95e6-45fe-e741-d1d15ce2e908"
   },
   "outputs": [],
   "source": [
    "from sklearn.metrics import mean_squared_error\n",
    "\n",
    "print('MSE {}'.format(mean_squared_error(y_test, encontradoTest, squared=True)))\n",
    "print('RMSE {}'.format(mean_squared_error(y_test, encontradoTest, squared=False)))"
   ]
  },
  {
   "cell_type": "markdown",
   "metadata": {
    "id": "zhkB9-z0owF1"
   },
   "source": [
    "## Teste com uma mlp\n"
   ]
  },
  {
   "cell_type": "code",
   "execution_count": null,
   "metadata": {
    "id": "QItDphVYxkjd"
   },
   "outputs": [],
   "source": [
    "x_train = x_train.reshape(x_train.shape[0], x_train.shape[2])"
   ]
  },
  {
   "cell_type": "code",
   "execution_count": null,
   "metadata": {
    "id": "tiOmk6BcyUzi"
   },
   "outputs": [],
   "source": [
    "x_val = x_val.reshape(x_val.shape[0], x_val.shape[2])"
   ]
  },
  {
   "cell_type": "code",
   "execution_count": null,
   "metadata": {
    "colab": {
     "base_uri": "https://localhost:8080/"
    },
    "id": "-Aph8KU415nC",
    "outputId": "39d9d855-aa89-457f-eb94-1ab3464a3bc1"
   },
   "outputs": [],
   "source": [
    "x_train.shape, x_val.shape"
   ]
  },
  {
   "cell_type": "code",
   "execution_count": null,
   "metadata": {
    "id": "-4KerqnJyaRc"
   },
   "outputs": [],
   "source": [
    "x_train = np.append(x_train, x_val, axis=0)\n",
    "y_train = np.append(y_train, y_val, axis=0)"
   ]
  },
  {
   "cell_type": "code",
   "execution_count": null,
   "metadata": {
    "colab": {
     "base_uri": "https://localhost:8080/"
    },
    "id": "njQ5QJmE1_h6",
    "outputId": "eef70f85-bcbf-4dd9-9a93-649dc99f1228"
   },
   "outputs": [],
   "source": [
    "x_train.shape, y_train.shape"
   ]
  },
  {
   "cell_type": "code",
   "execution_count": null,
   "metadata": {
    "id": "H8_04zDHyInY"
   },
   "outputs": [],
   "source": [
    "x_test = x_test.reshape(x_test.shape[0], x_test.shape[2])"
   ]
  },
  {
   "cell_type": "code",
   "execution_count": null,
   "metadata": {
    "colab": {
     "base_uri": "https://localhost:8080/"
    },
    "id": "UXWMzMSaou4I",
    "outputId": "53910c61-6dd7-47ea-beb5-cfea29f3c6f4"
   },
   "outputs": [],
   "source": [
    "from sklearn.neural_network import MLPRegressor\n",
    "\n",
    "regr = MLPRegressor(random_state=1, max_iter=500).fit(x_train, y_train)"
   ]
  },
  {
   "cell_type": "code",
   "execution_count": null,
   "metadata": {
    "colab": {
     "base_uri": "https://localhost:8080/"
    },
    "id": "o91mIlnTovOt",
    "outputId": "572c6028-d191-4fb1-a13d-f20a8dce758f"
   },
   "outputs": [],
   "source": [
    "regr.score(x_test, y_test)"
   ]
  },
  {
   "cell_type": "code",
   "execution_count": null,
   "metadata": {
    "id": "rNhvaE9err3I"
   },
   "outputs": [],
   "source": [
    "encontradoTest = regr.predict(x_test)\n",
    "encontradoTrain = regr.predict(x_train)"
   ]
  },
  {
   "cell_type": "code",
   "execution_count": null,
   "metadata": {
    "colab": {
     "base_uri": "https://localhost:8080/",
     "height": 513
    },
    "id": "TPbrinjUzqh4",
    "outputId": "e45c334a-599c-427f-8553-aa7c24439633"
   },
   "outputs": [],
   "source": [
    "plt.title('MLP - Treino/Teste - Encontrado x Esperado ({}d Defasagem)'.format(defasagem))\n",
    "plt.xlabel('Dia')\n",
    "plt.ylabel('Valor')\n",
    "# plt.axes().set_facecolor('lightgrey')\n",
    "plt.rcParams['figure.figsize'] = (16,8)\n",
    "#Grafico pro que foi encontrado\n",
    "\n",
    "esperado = [i for i in y_train] + [x for x in y_test]\n",
    "plt.plot(dataStocks.values, [i for i in encontradoTrain] + [x for x in encontradoTest], label = 'Encontrado', color = 'blue')\n",
    "plt.plot(dataStocks.values, esperado, label = 'Esperado', color='green')\n",
    "\n",
    "lineXTrain = len(encontradoTrain)\n",
    "\n",
    "minEsperado = min(esperado)\n",
    "maxEsperado = max(esperado)\n",
    "\n",
    "plt.plot([ dataStocks[lineXTrain], dataStocks[lineXTrain]  ], [ minEsperado, maxEsperado], c = 'black')\n",
    "\n",
    "plt.text(dataStocks[300], 0, 'Treinamento', fontsize = 15)\n",
    "\n",
    "plt.text(dataStocks[1100], 0, 'Teste', fontsize = 15)\n",
    "plt.legend()\n",
    "plt.show()"
   ]
  }
 ],
 "metadata": {
  "accelerator": "GPU",
  "colab": {
   "collapsed_sections": [],
   "name": "TCC_RNN.ipynb",
   "provenance": []
  },
  "kernelspec": {
   "display_name": "Python 3",
   "language": "python",
   "name": "python3"
  },
  "language_info": {
   "codemirror_mode": {
    "name": "ipython",
    "version": 3
   },
   "file_extension": ".py",
   "mimetype": "text/x-python",
   "name": "python",
   "nbconvert_exporter": "python",
   "pygments_lexer": "ipython3",
   "version": "3.6.5"
  }
 },
 "nbformat": 4,
 "nbformat_minor": 1
}
